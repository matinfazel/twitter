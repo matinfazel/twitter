{
 "cells": [
  {
   "cell_type": "code",
   "execution_count": 1,
   "id": "chemical-consideration",
   "metadata": {},
   "outputs": [],
   "source": [
    "import pandas as pd\n",
    "import matplotlib.pyplot as plt\n",
    "import csv\n",
    "import datetime as dt\n",
    "import time\n",
    "import emojis"
   ]
  },
  {
   "cell_type": "code",
   "execution_count": 2,
   "id": "continuous-machinery",
   "metadata": {},
   "outputs": [],
   "source": [
    "def make_dict(x,state = 'language or source'):\n",
    "    x = sort_dict(x)\n",
    "    tmp = list(x)\n",
    "    s = sum(list(x.values()))\n",
    "    c = 0\n",
    "    if state == 'players':\n",
    "        for i in range(len(tmp)):\n",
    "        \n",
    "            if i>5  :\n",
    "            \n",
    "                c+=x[tmp[i]]\n",
    "                del x[tmp[i]]\n",
    "    \n",
    "        x['other'] = c\n",
    "    else:\n",
    "        for i in range(len(tmp)):\n",
    "        \n",
    "            if i>7 or x[tmp[i]]<s * 0.08 :\n",
    "            \n",
    "                c+=x[tmp[i]]\n",
    "                del x[tmp[i]]\n",
    "    \n",
    "        x['other'] = c\n",
    "    return x"
   ]
  },
  {
   "cell_type": "code",
   "execution_count": 3,
   "id": "vanilla-constitutional",
   "metadata": {},
   "outputs": [],
   "source": [
    "def sort_dict(x):\n",
    "    sorted_dict= dict(sorted(x.items(), key = lambda kv: kv[1]))\n",
    "    sorted_dict =dict(reversed(list(sorted_dict.items())))\n",
    "    return sorted_dict"
   ]
  },
  {
   "cell_type": "code",
   "execution_count": 4,
   "id": "loved-reality",
   "metadata": {},
   "outputs": [],
   "source": [
    "def make_plot(x,state='language or source'):\n",
    "    \n",
    "    x = make_dict(x,state)\n",
    "    mylabels = list(x.keys())\n",
    "    values = list(x.values())\n",
    "    return_value = {'mylabels':mylabels,'values':values}\n",
    "    return return_value"
   ]
  },
  {
   "cell_type": "code",
   "execution_count": 5,
   "id": "excessive-joint",
   "metadata": {},
   "outputs": [],
   "source": [
    "def top5_emojies(x):\n",
    "    tmp = list(sort_dict(x))\n",
    "\n",
    "    for i in range(len(tmp)):\n",
    "        if i>4:\n",
    "            \n",
    "            del x[tmp[i]]\n",
    "            \n",
    "    return sort_dict(x)"
   ]
  },
  {
   "cell_type": "code",
   "execution_count": 6,
   "id": "egyptian-underground",
   "metadata": {},
   "outputs": [],
   "source": [
    "def hashtage_set(st):\n",
    "\n",
    "    st.pop(0)\n",
    "    if 'psgbarca' in st: #remove '#barcapsg' from hashtags\n",
    "        st.remove('psgbarca')\n",
    "    if 'psgbarça' in st:\n",
    "        st.remove('psgbarça')\n",
    "    for i in st:\n",
    "        if i not in hashtag:\n",
    "            hashtag[i]=1\n",
    "        else:\n",
    "            hashtag[i]+=1\n",
    "    return"
   ]
  },
  {
   "cell_type": "code",
   "execution_count": 7,
   "id": "comprehensive-vaccine",
   "metadata": {},
   "outputs": [],
   "source": [
    "def make_bar(hashtag_dict):\n",
    "    hashtag_dict = sort_dict(hashtag_dict)\n",
    "    \n",
    "    x = list(hashtag_dict.keys())[0:5]\n",
    "    y = list(hashtag_dict.values())[0:5]\n",
    "    \n",
    "    for i in range(0,5):\n",
    "        x[i] = '#' + x[i]\n",
    "       \n",
    "    \n",
    "    plt.bar(x, y,color = \"#4CAF50\")\n",
    "    plt.title('Top 5 hashtags used in people tweets')\n",
    "    plt.show()"
   ]
  },
  {
   "cell_type": "code",
   "execution_count": 8,
   "id": "recorded-klein",
   "metadata": {},
   "outputs": [],
   "source": [
    "#collecting barca and psg players\n",
    "barca_players={'stegen':0,'mingueza':0,'piqu':0,'lengle':0,'busque':0,'dest':0,'alba':0,'jong':0,'pedri':0,'messi':0,'dembele':0}\n",
    "psg_players = {'navas':0,'florenzi':0,'marquinhos':0,'kimpembe':0,'kurzawa':0,'paredes':0,'gueye':0,'verratti':0,'draxler':0,'mbapp':0,'Icardi':0,'angel':0}"
   ]
  },
  {
   "cell_type": "code",
   "execution_count": 9,
   "id": "sapphire-impact",
   "metadata": {},
   "outputs": [],
   "source": [
    "#reading from csv file\n",
    "df = pd.read_csv('recent_tweet.csv') \n",
    "df.columns =['id', 'text','lang','screen_name','created_at','media','hashtag','favorite_count','retweets_count','source']"
   ]
  },
  {
   "cell_type": "code",
   "execution_count": 10,
   "id": "fixed-equity",
   "metadata": {},
   "outputs": [],
   "source": [
    "#finding frequncy of languages in tweets\n",
    "lang = {}\n",
    "for i in df['lang']:\n",
    "    if i not in lang:\n",
    "        lang[i] = 0\n",
    "for i in df['lang']:\n",
    "    lang[i]+=1\n"
   ]
  },
  {
   "cell_type": "code",
   "execution_count": 11,
   "id": "daily-peninsula",
   "metadata": {},
   "outputs": [
    {
     "data": {
      "image/png": "[encoded data removed]",
      "text/plain": [
       "<Figure size 432x288 with 1 Axes>"
      ]
     },
     "metadata": {},
     "output_type": "display_data"
    }
   ],
   "source": [
    "plot_lang = make_plot(lang)\n",
    "\n",
    "plt.pie(plot_lang['values'], labels = plot_lang['mylabels'])\n",
    "plt.title('Most languages people used')\n",
    "plt.show()"
   ]
  },
  {
   "cell_type": "code",
   "execution_count": 12,
   "id": "studied-strength",
   "metadata": {},
   "outputs": [],
   "source": [
    "source = {}\n",
    "for i in df['source']:\n",
    "    if i not in source:\n",
    "        source[i] = 0\n",
    "for i in df['source']:\n",
    "    source[i]+=1\n"
   ]
  },
  {
   "cell_type": "code",
   "execution_count": 13,
   "id": "focal-antarctica",
   "metadata": {},
   "outputs": [
    {
     "data": {
      "image/png": "[encoded data removed]",
      "text/plain": [
       "<Figure size 432x288 with 1 Axes>"
      ]
     },
     "metadata": {},
     "output_type": "display_data"
    }
   ],
   "source": [
    "plot = make_plot(source,'asdf')\n",
    "\n",
    "plt.pie(plot['values'], labels = plot['mylabels'])\n",
    "plt.title('Most sources people used')\n",
    "plt.show()"
   ]
  },
  {
   "cell_type": "code",
   "execution_count": 14,
   "id": "ambient-watson",
   "metadata": {},
   "outputs": [],
   "source": [
    "for text in df['text']:\n",
    "    text = text.lower()\n",
    "    for i in barca_players:\n",
    "        if i in text:\n",
    "            barca_players[i]+=1\n",
    "    for i in psg_players:\n",
    "        if i in text:\n",
    "            psg_players[i]+=1"
   ]
  },
  {
   "cell_type": "code",
   "execution_count": 15,
   "id": "composite-doctrine",
   "metadata": {},
   "outputs": [
    {
     "data": {
      "image/png": "[encoded data removed]",
      "text/plain": [
       "<Figure size 432x288 with 1 Axes>"
      ]
     },
     "metadata": {},
     "output_type": "display_data"
    }
   ],
   "source": [
    "plot = make_plot(psg_players,'players')\n",
    "plt.pie(plot['values'], labels = plot['mylabels'])\n",
    "plt.title('Most psg players people talked about')\n",
    "plt.show()"
   ]
  },
  {
   "cell_type": "code",
   "execution_count": 16,
   "id": "unknown-footwear",
   "metadata": {},
   "outputs": [
    {
     "data": {
      "image/png": "[encoded data removed]",
      "text/plain": [
       "<Figure size 432x288 with 1 Axes>"
      ]
     },
     "metadata": {},
     "output_type": "display_data"
    }
   ],
   "source": [
    "plot = make_plot(barca_players,'players')\n",
    "plt.pie(plot['values'], labels = plot['mylabels'])\n",
    "plt.title('Most barca players people talked about')\n",
    "plt.show()"
   ]
  },
  {
   "cell_type": "code",
   "execution_count": 18,
   "id": "affected-entity",
   "metadata": {},
   "outputs": [],
   "source": [
    "hashtag = {}\n",
    "for text in df['hashtag']:\n",
    "    if pd.isna(text)==False:\n",
    "        text = text.lower()\n",
    "        text = text.split('#')\n",
    "        hashtage_set(text)"
   ]
  },
  {
   "cell_type": "code",
   "execution_count": 19,
   "id": "rubber-court",
   "metadata": {},
   "outputs": [
    {
     "data": {
      "image/png": "[encoded data removed]",
      "text/plain": [
       "<Figure size 432x288 with 1 Axes>"
      ]
     },
     "metadata": {
      "needs_background": "light"
     },
     "output_type": "display_data"
    }
   ],
   "source": [
    "make_bar(hashtag)"
   ]
  },
  {
   "cell_type": "code",
   "execution_count": 20,
   "id": "awful-verification",
   "metadata": {},
   "outputs": [
    {
     "name": "stdout",
     "output_type": "stream",
     "text": [
      "emoji frequency\n",
      "\n",
      "⚽ 159\n",
      "🔴 144\n",
      "💪 137\n",
      "❤️ 123\n",
      "🔵 105\n"
     ]
    }
   ],
   "source": [
    "#finding top 5 emojis used in people tweets\n",
    "em = {}\n",
    "for text in df['text']:\n",
    "    tmp = list(emojis.get(text))\n",
    "    \n",
    "    for i in tmp:\n",
    "            \n",
    "            if i in em:\n",
    "                em[i]+=1\n",
    "            else:\n",
    "                em[i]=1\n",
    "                \n",
    "em = top5_emojies(em)\n",
    "print('emoji','frequency')\n",
    "print()\n",
    "for emoji_ in em:\n",
    "    print(emoji_,em[emoji_])"
   ]
  }
 ],
 "metadata": {
  "kernelspec": {
   "display_name": "Python 3",
   "language": "python",
   "name": "python3"
  },
  "language_info": {
   "codemirror_mode": {
    "name": "ipython",
    "version": 3
   },
   "file_extension": ".py",
   "mimetype": "text/x-python",
   "name": "python",
   "nbconvert_exporter": "python",
   "pygments_lexer": "ipython3",
   "version": "3.8.5"
  }
 },
 "nbformat": 4,
 "nbformat_minor": 5
}
