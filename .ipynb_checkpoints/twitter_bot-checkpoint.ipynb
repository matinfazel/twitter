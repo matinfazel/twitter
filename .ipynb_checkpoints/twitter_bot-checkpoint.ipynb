{
 "cells": [
  {
   "cell_type": "code",
   "execution_count": 4,
   "id": "ordered-chair",
   "metadata": {},
   "outputs": [],
   "source": [
    "import tweepy\n",
    "import pandas as pd\n",
    "import webbrowser\n",
    "import csv\n",
    "import emojis\n",
    "import matplotlib.pyplot as plt\n",
    "import datetime as dt\n",
    "import time"
   ]
  },
  {
   "cell_type": "code",
   "execution_count": 5,
   "id": "offensive-heather",
   "metadata": {},
   "outputs": [],
   "source": [
    "cosumer_key = 'ChHwIHcyLFnRTlGQIvhBk5Enb'\n",
    "cosumer_secret = 'sMxZbz9luYPP7zOu7N4mckpCubUKKFvJRXPFveGI3WbFWHjhb7'\n",
    "auth = tweepy.OAuthHandler(cosumer_key,cosumer_secret)"
   ]
  },
  {
   "cell_type": "code",
   "execution_count": 6,
   "id": "resident-interview",
   "metadata": {},
   "outputs": [
    {
     "data": {
      "text/plain": [
       "True"
      ]
     },
     "execution_count": 6,
     "metadata": {},
     "output_type": "execute_result"
    }
   ],
   "source": [
    "redirect_url = auth.get_authorization_url()\n",
    "webbrowser.open(redirect_url)\n"
   ]
  },
  {
   "cell_type": "code",
   "execution_count": 7,
   "id": "unknown-inspector",
   "metadata": {},
   "outputs": [
    {
     "name": "stdin",
     "output_type": "stream",
     "text": [
      "Please insert pin value: 1067523\n"
     ]
    },
    {
     "data": {
      "text/plain": [
       "('1159401461618491392-KOEwOHmoJxZo76YH6sKKXN0mpOd8oc',\n",
       " 'y7nLatwuAaOC8AEVvr2NgxigTRw38vHQb8dzg7sGpsg37')"
      ]
     },
     "execution_count": 7,
     "metadata": {},
     "output_type": "execute_result"
    }
   ],
   "source": [
    "user_pint_input=input(\"Please insert pin value:\")\n",
    "auth.get_access_token(user_pint_input)\n"
   ]
  },
  {
   "cell_type": "code",
   "execution_count": 8,
   "id": "fifteen-sentence",
   "metadata": {},
   "outputs": [],
   "source": [
    "api = tweepy.API(auth, wait_on_rate_limit=True)\n",
    "me = api.me()\n"
   ]
  },
  {
   "cell_type": "code",
   "execution_count": 14,
   "id": "composed-syracuse",
   "metadata": {},
   "outputs": [],
   "source": [
    "with open('recent_tweet.csv','w',encoding=\"utf-8\") as csv_file:\n",
    "    \n",
    "             c = ['status_id','text','lang','name','time','media_url','hashtag','favorite_count','retweets_count','source']\n",
    "             w = csv.DictWriter(csv_file,fieldnames=c)\n",
    "             w.writeheader()\n",
    "            \n",
    "             csv_file.close()\n"
   ]
  },
  {
   "cell_type": "code",
   "execution_count": 6,
   "id": "electoral-farmer",
   "metadata": {},
   "outputs": [],
   "source": [
    "def add_recent_tweet_to_csv(tweet_id):\n",
    "    status = api.get_status(tweet_id)\n",
    "    data = []\n",
    "    c = ['status_id','text','lang','name','time','media_url','hashtag','favorite_count','retweets_count','source']\n",
    "    \n",
    "    try :\n",
    "        media = status.entities['media'][0]['media_url']\n",
    "    except:\n",
    "        media = 'None'\n",
    "\n",
    "    hashtag = ''\n",
    "    li=['#PSGBarça','#PSGbarca']\n",
    "    for i in status.entities['hashtags']:\n",
    "        if i['text'] not in li:\n",
    "            hashtag += '#'\n",
    "            hashtag += i['text']\n",
    "            print(hashtag)\n",
    "    \n",
    "    start_date_time = dt.datetime(2021,3,20,0,0) \n",
    "    created_at = ''\n",
    "    if status.created_at < start_date_time :\n",
    "        created_at = 'befor game'\n",
    "    elif start_date_time < status.created_at < start_date_time + dt.timedelta( hours=1 , minutes=45 ):\n",
    "        created_at = 'during game'\n",
    "    else :\n",
    "        created_at = 'after game'\n",
    "        \n",
    "    tmp=[]\n",
    "    tmp.append(status.id)\n",
    "    tmp.append(status.text)\n",
    "    tmp.append(status.lang)\n",
    "    tmp.append(status.user.screen_name)\n",
    "    tmp.append(created_at)\n",
    "    tmp.append(media)\n",
    "    tmp.append(hashtag)\n",
    "    tmp.append(status.favorite_count)\n",
    "    tmp.append(status.retweet_count)\n",
    "    tmp.append(status.source)\n",
    "    \n",
    "    with open('recent_tweet.csv','a',newline='',encoding=\"utf-8\") as csv_file:\n",
    "              w = csv.writer(csv_file)\n",
    "              w.writerow(tmp)"
   ]
  },
  {
   "cell_type": "code",
   "execution_count": 11,
   "id": "textile-fleece",
   "metadata": {},
   "outputs": [],
   "source": [
    "def make_dict(x):\n",
    "    tmp = list(x)\n",
    "    s = sum(list(x.values()))\n",
    "    c = 0\n",
    "\n",
    "    for i in range(len(tmp)):\n",
    "        \n",
    "        if i>7 or x[tmp[i]]<s * 0.08:\n",
    "            c+=x[tmp[i]]\n",
    "            del x[tmp[i]]\n",
    "    \n",
    "    x['other'] = c\n",
    "    return sort_dict(x)"
   ]
  },
  {
   "cell_type": "code",
   "execution_count": 12,
   "id": "enhanced-block",
   "metadata": {},
   "outputs": [],
   "source": [
    "def sort_dict(x):\n",
    "    sorted_dict= dict(sorted(x.items(), key = lambda kv: kv[1]))\n",
    "    sorted_dict =dict(reversed(list(sorted_dict.items())))\n",
    "    return sorted_dict"
   ]
  },
  {
   "cell_type": "code",
   "execution_count": 7,
   "id": "finnish-drilling",
   "metadata": {},
   "outputs": [],
   "source": [
    "def write_in_file(x):\n",
    "    with open('max.txt','w') as file:\n",
    "        file.write(str(x))\n",
    "        file.close()"
   ]
  },
  {
   "cell_type": "code",
   "execution_count": 8,
   "id": "standing-fabric",
   "metadata": {},
   "outputs": [],
   "source": [
    "def read_from_file():\n",
    "    with open('max.txt','r') as file:\n",
    "        x = file.read()\n",
    "        file.close()\n",
    "        return int(x)"
   ]
  },
  {
   "cell_type": "code",
   "execution_count": 9,
   "id": "perfect-wallpaper",
   "metadata": {},
   "outputs": [],
   "source": [
    "def search():\n",
    "    \n",
    "    maximum = read_from_file()\n",
    "    search = api.search('#psgbarca',count=100)\n",
    "    m = 0\n",
    "    for status in search:\n",
    "        if status.id > maximum:\n",
    "            try:\n",
    "                if status.id > m:\n",
    "                    m = status.id\n",
    "                add_recent_tweet_to_csv(status.id)\n",
    "                print(status.id)\n",
    "            except :\n",
    "                print('erorr!')\n",
    "    \n",
    "    write_in_file(m)"
   ]
  },
  {
   "cell_type": "code",
   "execution_count": null,
   "id": "major-marriage",
   "metadata": {},
   "outputs": [],
   "source": [
    "while(1):\n",
    "    search()\n",
    "    time.sleep(5*60)"
   ]
  },
  {
   "cell_type": "code",
   "execution_count": 71,
   "id": "north-bahamas",
   "metadata": {},
   "outputs": [],
   "source": [
    "barca_players={'stegen':0,'mingueza':0,'piqu':0,'lengle':0,'busque':0,'dest':0,'alba':0,'jong':0,'pedri':0,'messi':0,'dembele':0}\n",
    "psg_players = {'navas':0,'florenzi':0,'marquinhos':0,'kimpembe':0,'kurzawa':0,'paredes':0,'gueye':0,'verratti':0,'draxler':0,'mbapp':0,'Icardi':0,'angel':0}"
   ]
  },
  {
   "cell_type": "code",
   "execution_count": 72,
   "id": "public-karma",
   "metadata": {},
   "outputs": [],
   "source": [
    "df = pd.read_csv('recent_tweet.csv') \n",
    "df.columns =['id', 'text','lang','screen_name','created_at','media','hashtag','favorite_count','retweets_count','source']"
   ]
  },
  {
   "cell_type": "code",
   "execution_count": 73,
   "id": "crucial-public",
   "metadata": {},
   "outputs": [
    {
     "name": "stdout",
     "output_type": "stream",
     "text": [
      "{'ar': 57, 'en': 1248, 'fr': 732, 'es': 354, 'pt': 44, 'ca': 67, 'sl': 1, 'und': 159, 'ht': 28, 'nl': 41, 'bn': 1, 'it': 40, 'de': 12, 'fi': 12, 'tr': 34, 'pl': 15, 'in': 28, 'ja': 14, 'tl': 3, 'fa': 3, 'sv': 1, 'et': 2, 'el': 2, 'cy': 1, 'ro': 2, 'hi': 2, 'ru': 1}\n"
     ]
    }
   ],
   "source": [
    "lang = {}\n",
    "for i in df['lang']:\n",
    "    if i not in lang:\n",
    "        lang[i] = 0\n",
    "for i in df['lang']:\n",
    "    lang[i]+=1\n",
    "print(lang)"
   ]
  },
  {
   "cell_type": "code",
   "execution_count": 74,
   "id": "cooperative-bradley",
   "metadata": {},
   "outputs": [
    {
     "name": "stdout",
     "output_type": "stream",
     "text": [
      "{'Twitter for iPhone': 1181, 'PSGBotLive': 2, 'Twitter Web App': 281, 'Twitter for Android': 1145, 'Twitter for iPad': 12, '_math_bot_': 1, 'Grabyo': 1, 'Twitter Media Studio': 5, 'Buffer': 1, 'TweetDeck': 31, 'Tweetbot for iΟS': 2, 'Twitter Web Client': 231, 'Twitter for Weenect': 1, 'Hootsuite Inc.': 5, 'WordPress.com': 1, 'tweechaPrime': 1, 'Twitter Media Studio - LiveCut': 1, 'Echobox': 2}\n"
     ]
    }
   ],
   "source": [
    "source = {}\n",
    "for i in df['source']:\n",
    "    if i not in source:\n",
    "        source[i] = 0\n",
    "for i in df['source']:\n",
    "    source[i]+=1\n",
    "print(source)"
   ]
  },
  {
   "cell_type": "code",
   "execution_count": 79,
   "id": "popular-civilization",
   "metadata": {},
   "outputs": [
    {
     "data": {
      "image/png": "[encoded data removed]",
      "text/plain": [
       "<Figure size 432x288 with 1 Axes>"
      ]
     },
     "metadata": {},
     "output_type": "display_data"
    }
   ],
   "source": [
    "sorted_lang = make_dict(lang)\n",
    "mylabels = list(sorted_lang.keys())\n",
    "values = list(sorted_lang.values())\n",
    "\n",
    "plt.pie(values, labels = mylabels)\n",
    "plt.show()"
   ]
  },
  {
   "cell_type": "code",
   "execution_count": 75,
   "id": "sufficient-classification",
   "metadata": {},
   "outputs": [
    {
     "data": {
      "image/png": "[encoded data removed]",
      "text/plain": [
       "<Figure size 432x288 with 1 Axes>"
      ]
     },
     "metadata": {},
     "output_type": "display_data"
    }
   ],
   "source": [
    "sorted_source = make_dict(source)\n",
    "mylabels = list(sorted_source.keys())\n",
    "values = list(sorted_source.values())\n",
    "\n",
    "plt.pie(values, labels = mylabels)\n",
    "plt.show()"
   ]
  },
  {
   "cell_type": "code",
   "execution_count": 76,
   "id": "twelve-hobby",
   "metadata": {},
   "outputs": [
    {
     "name": "stdout",
     "output_type": "stream",
     "text": [
      "{'stegen': 25, 'mingueza': 20, 'piqu': 4, 'lengle': 26, 'busque': 20, 'dest': 28, 'alba': 8, 'jong': 13, 'pedri': 46, 'messi': 493, 'dembele': 82}\n"
     ]
    }
   ],
   "source": [
    "for text in df['text']:\n",
    "    text = text.lower()\n",
    "    for i in barca_players:\n",
    "        if i in text:\n",
    "            barca_players[i]+=1\n",
    "    for i in psg_players:\n",
    "        if i in text:\n",
    "            psg_players[i]+=1\n",
    "print(barca_players)"
   ]
  },
  {
   "cell_type": "code",
   "execution_count": 77,
   "id": "modular-strike",
   "metadata": {},
   "outputs": [
    {
     "name": "stdout",
     "output_type": "stream",
     "text": [
      "{'other': 765}\n"
     ]
    }
   ],
   "source": [
    "barca = make_dict(barca_players)\n",
    "mylabels = list(barca.keys())\n",
    "values = list(barca.values())\n",
    "\n",
    "print(barca)"
   ]
  },
  {
   "cell_type": "code",
   "execution_count": null,
   "id": "analyzed-group",
   "metadata": {},
   "outputs": [],
   "source": [
    "em = {}\n",
    "for text in df['text']:\n",
    "    tmp = list(emojis.get(text))\n",
    "    \n",
    "    for i in tmp:\n",
    "            \n",
    "            if i in em:\n",
    "                em[i]+=1\n",
    "            else:\n",
    "                em[i]=1\n",
    "print(sort_dict(em))"
   ]
  },
  {
   "cell_type": "code",
   "execution_count": 3,
   "id": "consecutive-america",
   "metadata": {},
   "outputs": [],
   "source": [
    "df = pd.read_csv('recent_tweet.csv') \n",
    "df.columns =['id', 'text','lang','screen_name','created_at','media','hashtag','favorite_count','retweets_count','source']\n"
   ]
  },
  {
   "cell_type": "code",
   "execution_count": 9,
   "id": "israeli-avenue",
   "metadata": {},
   "outputs": [],
   "source": [
    "with open('created_at_tweet.csv','w',encoding=\"utf-8\") as csv_file:\n",
    "    \n",
    "             c = ['created_at','time']\n",
    "             w = csv.DictWriter(csv_file,fieldnames=c)\n",
    "             w.writeheader()\n",
    "            \n",
    "             csv_file.close()\n"
   ]
  },
  {
   "cell_type": "code",
   "execution_count": null,
   "id": "handled-passport",
   "metadata": {},
   "outputs": [],
   "source": [
    "for i in df['id']:\n",
    "    print(i)\n",
    "    status = api.get_status(i)\n",
    "    start_date_time = dt.datetime(2021,3,10,0,0)\n",
    "    \n",
    "    created_at = ''\n",
    "    if start_date_time < status.created_at :\n",
    "        created_at = 'befor game'\n",
    "    elif start_date_time < status.created_at < start_date_time + dt.timedelta( hours=21 , minutes=45 ):\n",
    "        created_at = 'during game'\n",
    "    else :\n",
    "        created_at = 'after game'\n",
    "    tmp = []\n",
    "    tmp.append(created_at)\n",
    "    tmp.append(status.created_at)\n",
    "    write_time(tmp)"
   ]
  },
  {
   "cell_type": "code",
   "execution_count": 23,
   "id": "civilian-joseph",
   "metadata": {},
   "outputs": [],
   "source": [
    "def write_time(tmp):\n",
    "    \n",
    "    with open('created_at_tweet.csv.csv','a',newline='',encoding=\"utf-8\") as csv_file:\n",
    "              w = csv.writer(csv_file)\n",
    "              w.writerow(tmp)"
   ]
  },
  {
   "cell_type": "code",
   "execution_count": 19,
   "id": "rapid-bathroom",
   "metadata": {},
   "outputs": [
    {
     "name": "stdout",
     "output_type": "stream",
     "text": [
      "['__class__', '__delattr__', '__dict__', '__dir__', '__doc__', '__eq__', '__format__', '__ge__', '__getattribute__', '__getstate__', '__gt__', '__hash__', '__init__', '__init_subclass__', '__le__', '__lt__', '__module__', '__ne__', '__new__', '__reduce__', '__reduce_ex__', '__repr__', '__setattr__', '__sizeof__', '__str__', '__subclasshook__', '__weakref__', '_api', '_json', 'author', 'contributors', 'coordinates', 'created_at', 'destroy', 'entities', 'favorite', 'favorite_count', 'favorited', 'geo', 'id', 'id_str', 'in_reply_to_screen_name', 'in_reply_to_status_id', 'in_reply_to_status_id_str', 'in_reply_to_user_id', 'in_reply_to_user_id_str', 'is_quote_status', 'lang', 'parse', 'parse_list', 'place', 'retweet', 'retweet_count', 'retweeted', 'retweeted_status', 'retweets', 'source', 'source_url', 'text', 'truncated', 'user']\n",
      "2021-03-10 18:48:39\n"
     ]
    }
   ],
   "source": [
    "s = api.get_status('1369721883378204673')\n",
    "print(dir(s))\n",
    "print(s.created_at)"
   ]
  },
  {
   "cell_type": "code",
   "execution_count": null,
   "id": "baking-organ",
   "metadata": {},
   "outputs": [],
   "source": [
    "for i in df['id']:\n",
    "    print(i)"
   ]
  },
  {
   "cell_type": "code",
   "execution_count": null,
   "id": "exotic-spray",
   "metadata": {},
   "outputs": [],
   "source": []
  },
  {
   "cell_type": "code",
   "execution_count": null,
   "id": "authorized-concrete",
   "metadata": {},
   "outputs": [],
   "source": []
  }
 ],
 "metadata": {
  "kernelspec": {
   "display_name": "Python 3",
   "language": "python",
   "name": "python3"
  },
  "language_info": {
   "codemirror_mode": {
    "name": "ipython",
    "version": 3
   },
   "file_extension": ".py",
   "mimetype": "text/x-python",
   "name": "python",
   "nbconvert_exporter": "python",
   "pygments_lexer": "ipython3",
   "version": "3.8.5"
  }
 },
 "nbformat": 4,
 "nbformat_minor": 5
}
