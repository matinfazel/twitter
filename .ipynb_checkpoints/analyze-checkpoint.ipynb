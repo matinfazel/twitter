{
 "cells": [
  {
   "cell_type": "code",
   "execution_count": 1,
   "id": "respiratory-roller",
   "metadata": {},
   "outputs": [],
   "source": [
    "import pandas as pd\n",
    "import matplotlib.pyplot as plt\n",
    "import csv\n",
    "import datetime as dt\n",
    "import time\n",
    "import emojis\n",
    "import mplcairo"
   ]
  },
  {
   "cell_type": "code",
   "execution_count": 128,
   "id": "upper-poetry",
   "metadata": {},
   "outputs": [],
   "source": [
    "def make_dict(x,state = 'language or source'):\n",
    "    x = sort_dict(x)\n",
    "    tmp = list(x)\n",
    "    s = sum(list(x.values()))\n",
    "    c = 0\n",
    "    if state == 'players':\n",
    "        for i in range(len(tmp)):\n",
    "        \n",
    "            if i>5  :\n",
    "            \n",
    "                c+=x[tmp[i]]\n",
    "                del x[tmp[i]]\n",
    "    \n",
    "        x['other'] = c\n",
    "    else:\n",
    "        for i in range(len(tmp)):\n",
    "        \n",
    "            if i>7 or x[tmp[i]]<s * 0.08 :\n",
    "            \n",
    "                c+=x[tmp[i]]\n",
    "                del x[tmp[i]]\n",
    "    \n",
    "        x['other'] = c\n",
    "    return x"
   ]
  },
  {
   "cell_type": "code",
   "execution_count": null,
   "id": "norwegian-stuart",
   "metadata": {},
   "outputs": [],
   "source": []
  },
  {
   "cell_type": "code",
   "execution_count": 3,
   "id": "tracked-border",
   "metadata": {},
   "outputs": [],
   "source": [
    "def sort_dict(x):\n",
    "    sorted_dict= dict(sorted(x.items(), key = lambda kv: kv[1]))\n",
    "    sorted_dict =dict(reversed(list(sorted_dict.items())))\n",
    "    return sorted_dict"
   ]
  },
  {
   "cell_type": "code",
   "execution_count": 130,
   "id": "technical-explorer",
   "metadata": {},
   "outputs": [],
   "source": [
    "def make_plot(x,state='language or source'):\n",
    "    \n",
    "    x = make_dict(x,state)\n",
    "    mylabels = list(x.keys())\n",
    "    values = list(x.values())\n",
    "    return_value = {'mylabels':mylabels,'values':values}\n",
    "    return return_value"
   ]
  },
  {
   "cell_type": "code",
   "execution_count": 5,
   "id": "tired-pattern",
   "metadata": {},
   "outputs": [],
   "source": [
    "def top5_emojies(x):\n",
    "    tmp = list(sort_dict(x))\n",
    "\n",
    "    for i in range(len(tmp)):\n",
    "        if i>5:\n",
    "            \n",
    "            del x[tmp[i]]\n",
    "            \n",
    "    return sort_dict(x)"
   ]
  },
  {
   "cell_type": "code",
   "execution_count": 47,
   "id": "caring-webcam",
   "metadata": {},
   "outputs": [],
   "source": [
    "def hashtage_set(st):\n",
    "\n",
    "    st.pop(0)\n",
    "    if 'psgbarca' in st: #remove #barcapsg from hashtags\n",
    "        st.remove('psgbarca')\n",
    "    if 'psgbarça' in st:\n",
    "        st.remove('psgbarça')\n",
    "    for i in st:\n",
    "        if i not in hashtag:\n",
    "            hashtag[i]=1\n",
    "        else:\n",
    "            hashtag[i]+=1\n",
    "    return"
   ]
  },
  {
   "cell_type": "code",
   "execution_count": 84,
   "id": "mighty-glossary",
   "metadata": {},
   "outputs": [],
   "source": [
    "def make_bar(hashtag_dict):\n",
    "    hashtag_dict = sort_dict(hashtag_dict)\n",
    "    \n",
    "    x = list(hashtag_dict.keys())[0:5]\n",
    "    y = list(hashtag_dict.values())[0:5]\n",
    "    \n",
    "    for i in range(0,5):\n",
    "        x[i] = '#' + x[i]\n",
    "       \n",
    "    \n",
    "    plt.bar(x, y,color = \"#4CAF50\")\n",
    "    plt.title('Top 5 hashtags used in people tweets')\n",
    "    plt.show()"
   ]
  },
  {
   "cell_type": "code",
   "execution_count": 95,
   "id": "original-reflection",
   "metadata": {},
   "outputs": [],
   "source": [
    "barca_players={'stegen':0,'mingueza':0,'piqu':0,'lengle':0,'busque':0,'dest':0,'alba':0,'jong':0,'pedri':0,'messi':0,'dembele':0}\n",
    "psg_players = {'navas':0,'florenzi':0,'marquinhos':0,'kimpembe':0,'kurzawa':0,'paredes':0,'gueye':0,'verratti':0,'draxler':0,'mbapp':0,'Icardi':0,'angel':0}"
   ]
  },
  {
   "cell_type": "code",
   "execution_count": 55,
   "id": "earlier-plate",
   "metadata": {},
   "outputs": [],
   "source": [
    "df = pd.read_csv('recent_tweet.csv') \n",
    "df.columns =['id', 'text','lang','screen_name','created_at','media','hashtag','favorite_count','retweets_count','source']"
   ]
  },
  {
   "cell_type": "code",
   "execution_count": 8,
   "id": "cathedral-inflation",
   "metadata": {},
   "outputs": [
    {
     "name": "stdout",
     "output_type": "stream",
     "text": [
      "{'ar': 57, 'en': 1248, 'fr': 732, 'es': 354, 'pt': 44, 'ca': 67, 'sl': 1, 'und': 159, 'ht': 28, 'nl': 41, 'bn': 1, 'it': 40, 'de': 12, 'fi': 12, 'tr': 34, 'pl': 15, 'in': 28, 'ja': 14, 'tl': 3, 'fa': 3, 'sv': 1, 'et': 2, 'el': 2, 'cy': 1, 'ro': 2, 'hi': 2, 'ru': 1}\n"
     ]
    }
   ],
   "source": [
    "lang = {}\n",
    "for i in df['lang']:\n",
    "    if i not in lang:\n",
    "        lang[i] = 0\n",
    "for i in df['lang']:\n",
    "    lang[i]+=1\n",
    "print(lang)"
   ]
  },
  {
   "cell_type": "code",
   "execution_count": 134,
   "id": "bright-advancement",
   "metadata": {},
   "outputs": [
    {
     "data": {
      "image/png": "[encoded data removed]",
      "text/plain": [
       "<Figure size 432x288 with 1 Axes>"
      ]
     },
     "metadata": {},
     "output_type": "display_data"
    }
   ],
   "source": [
    "plot_lang = make_plot(lang)\n",
    "\n",
    "plt.pie(plot_lang['values'], labels = plot_lang['mylabels'])\n",
    "plt.show()"
   ]
  },
  {
   "cell_type": "code",
   "execution_count": 10,
   "id": "continuous-tender",
   "metadata": {},
   "outputs": [
    {
     "name": "stdout",
     "output_type": "stream",
     "text": [
      "{'Twitter for iPhone': 1181, 'PSGBotLive': 2, 'Twitter Web App': 281, 'Twitter for Android': 1145, 'Twitter for iPad': 12, '_math_bot_': 1, 'Grabyo': 1, 'Twitter Media Studio': 5, 'Buffer': 1, 'TweetDeck': 31, 'Tweetbot for iΟS': 2, 'Twitter Web Client': 231, 'Twitter for Weenect': 1, 'Hootsuite Inc.': 5, 'WordPress.com': 1, 'tweechaPrime': 1, 'Twitter Media Studio - LiveCut': 1, 'Echobox': 2}\n"
     ]
    }
   ],
   "source": [
    "source = {}\n",
    "for i in df['source']:\n",
    "    if i not in source:\n",
    "        source[i] = 0\n",
    "for i in df['source']:\n",
    "    source[i]+=1\n",
    "print(source)"
   ]
  },
  {
   "cell_type": "code",
   "execution_count": 135,
   "id": "under-german",
   "metadata": {},
   "outputs": [
    {
     "data": {
      "image/png": "[encoded data removed]",
      "text/plain": [
       "<Figure size 432x288 with 1 Axes>"
      ]
     },
     "metadata": {},
     "output_type": "display_data"
    }
   ],
   "source": [
    "plot = make_plot(source,'asdf')\n",
    "\n",
    "plt.pie(plot['values'], labels = plot['mylabels'])\n",
    "\n",
    "plt.show()"
   ]
  },
  {
   "cell_type": "code",
   "execution_count": 96,
   "id": "formed-auction",
   "metadata": {},
   "outputs": [
    {
     "name": "stdout",
     "output_type": "stream",
     "text": [
      "{'navas': 228, 'florenzi': 1, 'marquinhos': 20, 'kimpembe': 2, 'kurzawa': 16, 'paredes': 5, 'gueye': 3, 'verratti': 80, 'draxler': 7, 'mbapp': 93, 'Icardi': 0, 'angel': 1} {'stegen': 25, 'mingueza': 20, 'piqu': 4, 'lengle': 26, 'busque': 20, 'dest': 28, 'alba': 8, 'jong': 13, 'pedri': 46, 'messi': 493, 'dembele': 82}\n"
     ]
    }
   ],
   "source": [
    "for text in df['text']:\n",
    "    text = text.lower()\n",
    "    for i in barca_players:\n",
    "        if i in text:\n",
    "            barca_players[i]+=1\n",
    "    for i in psg_players:\n",
    "        if i in text:\n",
    "            psg_players[i]+=1\n",
    "print(psg_players,barca_players)"
   ]
  },
  {
   "cell_type": "code",
   "execution_count": 131,
   "id": "biblical-charleston",
   "metadata": {},
   "outputs": [
    {
     "data": {
      "image/png": "[encoded data removed]",
      "text/plain": [
       "<Figure size 432x288 with 1 Axes>"
      ]
     },
     "metadata": {},
     "output_type": "display_data"
    }
   ],
   "source": [
    "plot = make_plot(psg_players,'players')\n",
    "plt.pie(plot['values'], labels = plot['mylabels'])\n",
    "plt.show()"
   ]
  },
  {
   "cell_type": "code",
   "execution_count": 137,
   "id": "cubic-xerox",
   "metadata": {},
   "outputs": [
    {
     "data": {
      "image/png": "[encoded data removed]",
      "text/plain": [
       "<Figure size 432x288 with 1 Axes>"
      ]
     },
     "metadata": {},
     "output_type": "display_data"
    }
   ],
   "source": [
    "plot = make_plot(barca_players,'players')\n",
    "plt.pie(plot['values'], labels = plot['mylabels'])\n",
    "plt.show()"
   ]
  },
  {
   "cell_type": "code",
   "execution_count": 14,
   "id": "realistic-doctor",
   "metadata": {},
   "outputs": [],
   "source": [
    "em = {}\n",
    "for text in df['text']:\n",
    "    tmp = list(emojis.get(text))\n",
    "    \n",
    "    for i in tmp:\n",
    "            \n",
    "            if i in em:\n",
    "                em[i]+=1\n",
    "            else:\n",
    "                em[i]=1\n"
   ]
  },
  {
   "cell_type": "code",
   "execution_count": null,
   "id": "popular-confirmation",
   "metadata": {},
   "outputs": [],
   "source": [
    "em = top5_emojies(em)\n",
    "plot = make_plot(em)\n",
    "plt.pie(plot['values'], labels = plot['mylabels'])\n",
    "plt.title('Top 5 emojies used in people tweets')\n",
    "\n",
    "plt.show()"
   ]
  },
  {
   "cell_type": "code",
   "execution_count": null,
   "id": "skilled-nigeria",
   "metadata": {},
   "outputs": [],
   "source": [
    "hashtag={}\n",
    "for text in df['hashtag']:\n",
    "    if pd.isna(text)==False:\n",
    "        text = text.lower()\n",
    "        text = text.split('#')\n",
    "        hashtage_set(text)\n",
    "        \n",
    "print(hashtag)"
   ]
  },
  {
   "cell_type": "code",
   "execution_count": 85,
   "id": "tamil-nothing",
   "metadata": {},
   "outputs": [
    {
     "data": {
      "image/png": "[encoded data removed]",
      "text/plain": [
       "<Figure size 432x288 with 1 Axes>"
      ]
     },
     "metadata": {
      "needs_background": "light"
     },
     "output_type": "display_data"
    }
   ],
   "source": [
    "make_bar(hashtag)"
   ]
  }
 ],
 "metadata": {
  "kernelspec": {
   "display_name": "Python 3",
   "language": "python",
   "name": "python3"
  },
  "language_info": {
   "codemirror_mode": {
    "name": "ipython",
    "version": 3
   },
   "file_extension": ".py",
   "mimetype": "text/x-python",
   "name": "python",
   "nbconvert_exporter": "python",
   "pygments_lexer": "ipython3",
   "version": "3.8.5"
  }
 },
 "nbformat": 4,
 "nbformat_minor": 5
}
