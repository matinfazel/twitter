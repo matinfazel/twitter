{
 "cells": [
  {
   "cell_type": "code",
   "execution_count": 4,
   "id": "explicit-point",
   "metadata": {},
   "outputs": [],
   "source": [
    "import tweepy\n",
    "import pandas as pd\n",
    "import webbrowser\n",
    "import csv\n",
    "import emojis\n",
    "import matplotlib.pyplot as plt\n",
    "import datetime as dt\n",
    "import time"
   ]
  },
  {
   "cell_type": "code",
   "execution_count": 5,
   "id": "sensitive-tablet",
   "metadata": {},
   "outputs": [],
   "source": [
    "cosumer_key = 'ChHwIHtyLFnRTlGQIvhBtyEnb'\n",
    "cosumer_secret = 'sMxZbzgfwYPP7zOu8N4mckpCubUKKFvJRXPgheGI3WbFWHjhb7'\n",
    "auth = tweepy.OAuthHandler(cosumer_key,cosumer_secret)"
   ]
  },
  {
   "cell_type": "code",
   "execution_count": 6,
   "id": "substantial-lewis",
   "metadata": {},
   "outputs": [
    {
     "data": {
      "text/plain": [
       "True"
      ]
     },
     "execution_count": 6,
     "metadata": {},
     "output_type": "execute_result"
    }
   ],
   "source": [
    "redirect_url = auth.get_authorization_url()\n",
    "webbrowser.open(redirect_url)\n"
   ]
  },
  {
   "cell_type": "code",
   "execution_count": 7,
   "id": "mighty-tenant",
   "metadata": {},
   "outputs": [
    {
     "name": "stdin",
     "output_type": "stream",
     "text": [
      "Please insert pin value: 1067523\n"
     ]
    },
    {
     "data": {
      "text/plain": [
       "('1159401461618491392-KOEwOHmoJxZo76YH6sKKXN0mpOd8oc',\n",
       " 'y7nLatwuAaOC8AEVvr2NgxigTRw38vHQb8dzg7sGpsg37')"
      ]
     },
     "execution_count": 7,
     "metadata": {},
     "output_type": "execute_result"
    }
   ],
   "source": [
    "user_pint_input=input(\"Please insert pin value:\")\n",
    "auth.get_access_token(user_pint_input)\n"
   ]
  },
  {
   "cell_type": "code",
   "execution_count": 8,
   "id": "christian-affiliate",
   "metadata": {},
   "outputs": [],
   "source": [
    "api = tweepy.API(auth, wait_on_rate_limit=True)\n",
    "me = api.me()\n"
   ]
  },
  {
   "cell_type": "code",
   "execution_count": 14,
   "id": "varying-albany",
   "metadata": {},
   "outputs": [],
   "source": [
    "with open('recent_tweet.csv','w',encoding=\"utf-8\") as csv_file:\n",
    "             #making csv file and headers\n",
    "             c = ['status_id','text','lang','name','time','media_url','hashtag','favorite_count','retweets_count','source']\n",
    "             w = csv.DictWriter(csv_file,fieldnames=c)\n",
    "             w.writeheader()\n",
    "            \n",
    "             csv_file.close()\n"
   ]
  },
  {
   "cell_type": "code",
   "execution_count": 6,
   "id": "third-mining",
   "metadata": {},
   "outputs": [],
   "source": [
    "def add_recent_tweet_to_csv(tweet_id):\n",
    "    #add tweet to csv file via tweet id\n",
    "    status = api.get_status(tweet_id)\n",
    "    data = []\n",
    "    c = ['status_id','text','lang','name','time','media_url','hashtag','favorite_count','retweets_count','source']\n",
    "    \n",
    "    try :\n",
    "        media = status.entities['media'][0]['media_url']\n",
    "    except:\n",
    "        media = 'None'\n",
    "\n",
    "    hashtag = ''\n",
    "    li=['#PSGBarça','#PSGbarca']\n",
    "    for i in status.entities['hashtags']:\n",
    "        if i['text'] not in li:\n",
    "            hashtag += '#'\n",
    "            hashtag += i['text']\n",
    "            print(hashtag)\n",
    "    \n",
    "    start_date_time = dt.datetime(2021,3,20,0,0)#date of the match\n",
    "    created_at = ''\n",
    "    if status.created_at < start_date_time :\n",
    "        created_at = 'befor game'\n",
    "    elif start_date_time < status.created_at < start_date_time + dt.timedelta( hours=21 , minutes=45 ):\n",
    "        created_at = 'during game'\n",
    "    else :\n",
    "        created_at = 'after game'\n",
    "        \n",
    "    tmp=[]\n",
    "    tmp.append(status.id)\n",
    "    tmp.append(status.text)\n",
    "    tmp.append(status.lang)\n",
    "    tmp.append(status.user.screen_name)\n",
    "    tmp.append(created_at)\n",
    "    tmp.append(media)\n",
    "    tmp.append(hashtag)\n",
    "    tmp.append(status.favorite_count)\n",
    "    tmp.append(status.retweet_count)\n",
    "    tmp.append(status.source)\n",
    "    \n",
    "    with open('recent_tweet.csv','a',newline='',encoding=\"utf-8\") as csv_file:\n",
    "              w = csv.writer(csv_file)\n",
    "              w.writerow(tmp)"
   ]
  },
  {
   "cell_type": "code",
   "execution_count": 11,
   "id": "extreme-battlefield",
   "metadata": {},
   "outputs": [],
   "source": [
    "def make_dict(x):\n",
    "    tmp = list(x)\n",
    "    s = sum(list(x.values()))\n",
    "    c = 0\n",
    "\n",
    "    for i in range(len(tmp)):\n",
    "        \n",
    "        if i>7 or x[tmp[i]]<s * 0.08:\n",
    "            c+=x[tmp[i]]\n",
    "            del x[tmp[i]]\n",
    "    \n",
    "    x['other'] = c\n",
    "    return sort_dict(x)"
   ]
  },
  {
   "cell_type": "code",
   "execution_count": 7,
   "id": "leading-slovenia",
   "metadata": {},
   "outputs": [],
   "source": [
    "def write_in_file(x):\n",
    "    with open('max.txt','w') as file:\n",
    "        file.write(str(x))\n",
    "        file.close()"
   ]
  },
  {
   "cell_type": "code",
   "execution_count": 8,
   "id": "corresponding-majority",
   "metadata": {},
   "outputs": [],
   "source": [
    "def read_from_file():\n",
    "    with open('max.txt','r') as file:\n",
    "        x = file.read()\n",
    "        file.close()\n",
    "        return int(x)"
   ]
  },
  {
   "cell_type": "code",
   "execution_count": 9,
   "id": "tribal-certification",
   "metadata": {},
   "outputs": [],
   "source": [
    "def search():\n",
    "    maximum = read_from_file()\n",
    "    search = api.search('#psgbarca',count=100)\n",
    "    m = 0\n",
    "    for status in search:\n",
    "        if status.id > maximum:\n",
    "            try:\n",
    "                if status.id > m:\n",
    "                    m = status.id\n",
    "                add_recent_tweet_to_csv(status.id)\n",
    "                print(status.id)\n",
    "            except :\n",
    "                print('erorr!')\n",
    "    \n",
    "    write_in_file(m)"
   ]
  },
  {
   "cell_type": "code",
   "execution_count": null,
   "id": "headed-reporter",
   "metadata": {},
   "outputs": [],
   "source": [
    "while(1):\n",
    "    search()\n",
    "    time.sleep(5*60)\n",
    "    #it requests every 5 minutes"
   ]
  }
 ],
 "metadata": {
  "kernelspec": {
   "display_name": "Python 3",
   "language": "python",
   "name": "python3"
  },
  "language_info": {
   "codemirror_mode": {
    "name": "ipython",
    "version": 3
   },
   "file_extension": ".py",
   "mimetype": "text/x-python",
   "name": "python",
   "nbconvert_exporter": "python",
   "pygments_lexer": "ipython3",
   "version": "3.8.5"
  }
 },
 "nbformat": 4,
 "nbformat_minor": 5
}
